{
  "nbformat": 4,
  "nbformat_minor": 0,
  "metadata": {
    "colab": {
      "provenance": [],
      "collapsed_sections": [],
      "include_colab_link": true
    },
    "kernelspec": {
      "name": "python3",
      "display_name": "Python 3"
    }
  },
  "cells": [
    {
      "cell_type": "markdown",
      "metadata": {
        "id": "view-in-github",
        "colab_type": "text"
      },
      "source": [
        "<a href=\"https://colab.research.google.com/github/Ziin2/Ziin2/blob/main/Practices_Lesson_4.ipynb\" target=\"_parent\"><img src=\"https://colab.research.google.com/assets/colab-badge.svg\" alt=\"Open In Colab\"/></a>"
      ]
    },
    {
      "cell_type": "markdown",
      "metadata": {
        "id": "8G3OG0kV-UMZ"
      },
      "source": [
        "# Very quick intro to Matplotlib"
      ]
    },
    {
      "cell_type": "markdown",
      "metadata": {
        "id": "Ga6o4Cgo-UMd"
      },
      "source": [
        "Assume that you want to plot some function f.\n",
        "There are basically four steps to follow.\n",
        "1. First, define the function.\n",
        "2. Second, create a list that will contain the x-values. Let's call it list_x.\n",
        "3. Third, create a loop over this list and call the function to return the corresponding f(x) values.\n",
        "   Store the returned values into another list. Let's call it list_y.\n",
        "4. Prepare the plot and display it.\n",
        "\n",
        "Here is an example."
      ]
    },
    {
      "cell_type": "code",
      "execution_count": null,
      "metadata": {
        "id": "BXXKdbSO-UMe"
      },
      "outputs": [],
      "source": [
        "# Step 1: I define my function.\n",
        "\n",
        "import math\n",
        "\n",
        "def logistic(x):\n",
        "    # x must be a float\n",
        "    y = math.exp(x) / (1 + math.exp(x))\n",
        "    return y\n"
      ]
    },
    {
      "cell_type": "code",
      "execution_count": null,
      "metadata": {
        "colab": {
          "base_uri": "https://localhost:8080/"
        },
        "id": "M75fxCeZ-UMf",
        "outputId": "8308d679-a9d2-45ae-9305-1cc78b041825"
      },
      "outputs": [
        {
          "output_type": "stream",
          "name": "stdout",
          "text": [
            "[-6.  -4.8 -3.6 -2.4 -1.2  0.   1.2  2.4  3.6  4.8  6. ]\n"
          ]
        }
      ],
      "source": [
        "# Step 2: I create the list of x_values.\n",
        "# The numpy library is quite convenient for that. You can notably use the\n",
        "# numpy linspace() or arange() functions.\n",
        "# But if the list of x_values only contains integers, better using list(range()).\n",
        "\n",
        "\n",
        "import numpy as np\n",
        "# linspace(start, end, num = N) creates a list of N numbers evenly spaced \n",
        "# between start and end.\n",
        "# Remark: Why 11 instead of 10? Because end is included. I don't want to \n",
        "# carry too much decimals.\n",
        "\n",
        "list_x = np.linspace(-6,6, num = 11)\n",
        "print(list_x)"
      ]
    },
    {
      "cell_type": "code",
      "execution_count": null,
      "metadata": {
        "colab": {
          "base_uri": "https://localhost:8080/"
        },
        "id": "Kh2XsZD8-UMg",
        "outputId": "b57eb2dc-3cbb-41ee-861f-29771d979d1e"
      },
      "outputs": [
        {
          "output_type": "stream",
          "name": "stdout",
          "text": [
            "[-6.  -5.5 -5.  -4.5 -4.  -3.5 -3.  -2.5 -2.  -1.5 -1.  -0.5  0.   0.5\n",
            "  1.   1.5  2.   2.5  3.   3.5  4.   4.5  5.   5.5  6. ]\n"
          ]
        }
      ],
      "source": [
        "# Actually, I would prefer to set up myself the spacing between two samples.\n",
        "\n",
        "# arange(start, end, step) creates a list of numbers evenly spaced by step \n",
        "# starting from start to end.\n",
        "# Remark: Why 6.001 instead of 6? Because end is excluded. So, I choose an\n",
        "# interval end with a decimal part lower than the step.\n",
        "\n",
        "list_x = np.arange(-6,6.001, 0.5)\n",
        "print(list_x)"
      ]
    },
    {
      "cell_type": "code",
      "execution_count": null,
      "metadata": {
        "colab": {
          "base_uri": "https://localhost:8080/"
        },
        "id": "A_3UijPT-UMh",
        "outputId": "b7c75a33-d8b8-4a73-e2f6-26a5f156a47d"
      },
      "outputs": [
        {
          "output_type": "stream",
          "name": "stdout",
          "text": [
            "[0.0024726231566347748, 0.004070137715896127, 0.006692850924284856, 0.01098694263059318, 0.017986209962091555, 0.029312230751356316, 0.04742587317756679, 0.07585818002124356, 0.11920292202211755, 0.18242552380635632, 0.2689414213699951, 0.37754066879814546, 0.5, 0.6224593312018546, 0.7310585786300049, 0.8175744761936437, 0.8807970779778824, 0.9241418199787564, 0.9525741268224333, 0.9706877692486436, 0.9820137900379085, 0.9890130573694068, 0.9933071490757152, 0.9959298622841039, 0.9975273768433652]\n"
          ]
        }
      ],
      "source": [
        "# Step 3\n",
        "# Initialisation of list_y\n",
        "list_y = []\n",
        "for x in list_x:\n",
        "    y = logistic(x)\n",
        "    list_y.append(y)\n",
        "    \n",
        "print(list_y)"
      ]
    },
    {
      "cell_type": "code",
      "execution_count": null,
      "metadata": {
        "colab": {
          "base_uri": "https://localhost:8080/",
          "height": 265
        },
        "id": "m9F1OABP-UMi",
        "outputId": "ca08195c-428e-4bbf-85e5-ddca1219ea24"
      },
      "outputs": [
        {
          "output_type": "display_data",
          "data": {
            "text/plain": [
              "<Figure size 432x288 with 1 Axes>"
            ],
            "image/png": "[encoded data removed]"
          },
          "metadata": {
            "needs_background": "light"
          }
        }
      ],
      "source": [
        "# Step 4: It's time to plot.\n",
        "\n",
        "import matplotlib.pyplot as plt\n",
        "\n",
        "plt.plot(list_x, list_y) #create the plot\n",
        "plt.show() #display the plot. Always at the end!"
      ]
    },
    {
      "cell_type": "code",
      "execution_count": null,
      "metadata": {
        "colab": {
          "base_uri": "https://localhost:8080/",
          "height": 295
        },
        "id": "a8NmvZ94-UMj",
        "outputId": "678151a4-5eba-4314-d79e-bc1309641e2e"
      },
      "outputs": [
        {
          "output_type": "display_data",
          "data": {
            "text/plain": [
              "<Figure size 432x288 with 1 Axes>"
            ],
            "image/png": "[encoded data removed]"
          },
          "metadata": {
            "needs_background": "light"
          }
        }
      ],
      "source": [
        "# Let's make it a bit more fancy.\n",
        "# You don't want a continuous line between the points and you developed a passion for red pentagons? No problem.\n",
        "\n",
        "plt.plot(list_x, list_y, 'rp')\n",
        "# What is 'rp'? \n",
        "# The first letter indicates the color (r for red, b for blue, etc.) and the second the type of the marker\n",
        "# (o for circle, s for square, + for +, etc.)\n",
        "\n",
        "# Add some abels and a title \n",
        "plt.xlabel('x-values')\n",
        "plt.ylabel('y-values')\n",
        "plt.title('Logistic function') \n",
        "plt.show() #display the plot. Always at the end!"
      ]
    },
    {
      "cell_type": "code",
      "execution_count": null,
      "metadata": {
        "colab": {
          "base_uri": "https://localhost:8080/",
          "height": 513
        },
        "id": "SGz1I5km-UMj",
        "outputId": "f8a1a259-9b51-4659-a1ff-ad3fda7f216a"
      },
      "outputs": [
        {
          "output_type": "display_data",
          "data": {
            "text/plain": [
              "<Figure size 432x288 with 1 Axes>"
            ],
            "image/png": "[encoded data removed]"
          },
          "metadata": {
            "needs_background": "light"
          }
        },
        {
          "output_type": "display_data",
          "data": {
            "text/plain": [
              "<Figure size 432x288 with 1 Axes>"
            ],
            "image/png": "[encoded data removed]"
          },
          "metadata": {
            "needs_background": "light"
          }
        }
      ],
      "source": [
        "# If you are not sure about the syntax of the string to provide into the plt.plot() function,\n",
        "# you can always define by yourself the color, marker, line style, width and the marker size.\n",
        "# E.g., both examples below are equivalent.\n",
        "\n",
        "plt.plot(list_x, list_y, 'rs--', linewidth=2, markersize=8)\n",
        "plt.show()\n",
        "plt.plot(list_x, list_y, color='green', marker='o', linestyle='dashed', linewidth=2, markersize=12)\n",
        "plt.show()"
      ]
    },
    {
      "cell_type": "markdown",
      "metadata": {
        "id": "XfjoC9jV-UMk"
      },
      "source": [
        "More details at:\n",
        "https://matplotlib.org/api/_as_gen/matplotlib.pyplot.plot.html\n",
        "\n",
        "All possible markers can be found at:\n",
        "https://matplotlib.org/3.1.0/api/markers_api.html\n",
        "\n",
        "Have a look on it!"
      ]
    },
    {
      "cell_type": "code",
      "execution_count": null,
      "metadata": {
        "colab": {
          "base_uri": "https://localhost:8080/"
        },
        "id": "2aQg9Y3O-UMk",
        "outputId": "a9e06c6f-2ae3-4375-dcd1-3e54a88dc5db"
      },
      "outputs": [
        {
          "output_type": "stream",
          "name": "stdout",
          "text": [
            "[1.0, 1.1, 1.2, 1.3, 1.4, 1.5, 1.6, 1.7, 1.8, 1.9, 2.0]\n",
            "[1.0, 1.1, 1.2, 1.3, 1.4, 1.5, 1.6, 1.7000000000000002, 1.8, 1.9, 2.0]\n"
          ]
        }
      ],
      "source": [
        "# You want to create your own linspace and arange function? Ok\n",
        "\n",
        "def my_linspace(start, end, num):\n",
        "    values = []\n",
        "    for k in range(num):\n",
        "        values.append(start + k * (end-start) / (num - 1))\n",
        "    return values\n",
        "\n",
        "def my_arange(start, end, step):\n",
        "    values = []\n",
        "    k = 0\n",
        "    while start + k * step < end:\n",
        "        values.append(start + k * step)\n",
        "        k += 1\n",
        "    return values\n",
        "\n",
        "print(my_linspace(1, 2, 11))\n",
        "print(my_arange(1, 2.001, 0.1))"
      ]
    },
    {
      "cell_type": "code",
      "execution_count": null,
      "metadata": {
        "id": "0kk9_Rwy-UMl"
      },
      "outputs": [],
      "source": []
    },
    {
      "cell_type": "code",
      "execution_count": null,
      "metadata": {
        "id": "qRQdDKIL-UMl"
      },
      "outputs": [],
      "source": []
    },
    {
      "cell_type": "code",
      "execution_count": null,
      "metadata": {
        "id": "FoDeF7s_-UMl"
      },
      "outputs": [],
      "source": []
    },
    {
      "cell_type": "code",
      "execution_count": null,
      "metadata": {
        "id": "--irKCxJ-UMl"
      },
      "outputs": [],
      "source": []
    },
    {
      "cell_type": "markdown",
      "source": [
        "## Examples about string"
      ],
      "metadata": {
        "id": "5yq7JiFx77rj"
      }
    },
    {
      "cell_type": "markdown",
      "metadata": {
        "id": "m5H2aoS-AFMq"
      },
      "source": [
        "###Example 4.01 check_password(pwd)\n",
        "This function checks whether the string pwd is a valid password. The rules are:\n",
        "\n",
        "1) a password must have at least 8 characters\n",
        "\n",
        "2) a password must consist of letters and digits only\n",
        "\n",
        "3) a password must simultanously contain digits, uppercase and lowercase letters.\n",
        "\n",
        "Tips: Please read the Python documentation (https://docs.python.org/3/library/stdtypes.html?highlight=upper#string-methods), and check what kinds of methods are provided for the string data type. \n"
      ]
    },
    {
      "cell_type": "code",
      "metadata": {
        "id": "YN900gAtAKGQ",
        "colab": {
          "base_uri": "https://localhost:8080/"
        },
        "outputId": "aa49769d-4033-4905-e2b7-6d53400f429c"
      },
      "source": [
        "def check_password(passw):\n",
        "  if len\n",
        "  \n",
        "  \n",
        "\n",
        "  \n",
        "\n",
        "ans = check_password('test') \n",
        "print(ans)\n",
        "ans=check_password('testTesttt') \n",
        "print(ans)\n",
        "ans=check_password('testt22') \n",
        "print(ans)\n",
        "ans=check_password('tesTte22') \n",
        "print(ans)\n",
        "ans=check_password('12344454555') \n",
        "print(ans)\n",
        "ans=check_password('tesTte_22') \n",
        "print(ans)"
      ],
      "execution_count": null,
      "outputs": [
        {
          "output_type": "stream",
          "name": "stdout",
          "text": [
            "False\n",
            "False\n",
            "False\n",
            "True\n",
            "False\n",
            "False\n"
          ]
        }
      ]
    },
    {
      "cell_type": "markdown",
      "metadata": {
        "id": "uPh0q6Sn5abJ"
      },
      "source": [
        "### Example 4.02 String Splitting\n",
        "\n",
        "Convert the following strings to lists containing integers.\n",
        "\n",
        "```\n",
        "input '10, 20, 30, 40, 500'\n",
        "output [10, 20, 30, 40, 500]\n",
        "```"
      ]
    },
    {
      "cell_type": "code",
      "metadata": {
        "colab": {
          "base_uri": "https://localhost:8080/"
        },
        "id": "-q_4qBM85kkN",
        "outputId": "97a1adfc-4435-4808-ebe5-6d4ae13c0a33"
      },
      "source": [
        "#How to convert the following string to a list containing integers?\n",
        "text1 = '10, 20, 30, 40, 500'\n",
        "text2 = '100, 200, 30, 40, 500'\n",
        "\n",
        "def string2list(input_str):\n",
        "  # Write your code here\n",
        "  \n",
        "\n",
        "print(string2list(text1))\n",
        "print(string2list(text2))"
      ],
      "execution_count": null,
      "outputs": [
        {
          "output_type": "stream",
          "name": "stdout",
          "text": [
            "[10, 20, 30, 40, 500]\n",
            "[100, 200, 30, 40, 500]\n"
          ]
        }
      ]
    },
    {
      "cell_type": "markdown",
      "metadata": {
        "id": "6lvJnA-aKUPe"
      },
      "source": [
        "### Example 4.03 Caesar Cipher"
      ]
    },
    {
      "cell_type": "markdown",
      "metadata": {
        "id": "VhKyHn0eKuim"
      },
      "source": [
        "A message can be encrypted by simply replacing each *letter* by another that is *n* positions ahead in the *alphabet*. For example, the message \n",
        "\n",
        "```python\n",
        "ILOVECOOKIES\n",
        "```\n",
        "with *n = 3* becomes\n",
        "\n",
        "```python\n",
        "LORYHFRRNLHV\n",
        "```\n",
        "\n",
        "This method of encrypting is known as the **Caesar cipher**. \n",
        "\n",
        "How this can be done in python is to use two built-in functions \n",
        "- ```ord()``` given a character input, returns the integer value in the [ASCII table](http://www.asciitable.com/). \n",
        "- ```chr()``` given an integer input, returns the character according to the ASCII table.\n",
        "\n",
        "How would you use these functions to implement a Caesar Cipher? \n"
      ]
    },
    {
      "cell_type": "code",
      "metadata": {
        "id": "CWltgZLMMyLZ",
        "colab": {
          "base_uri": "https://localhost:8080/"
        },
        "outputId": "0e93201e-f453-48cb-f43c-70d93034730e"
      },
      "source": [
        "n = 3\n",
        "message = 'ILOVECOOKIES'\n",
        "newmsg = ''\n",
        "### continue with the solution\n",
        "\n",
        "\n",
        "\n",
        "print(newmsg)"
      ],
      "execution_count": null,
      "outputs": [
        {
          "output_type": "stream",
          "name": "stdout",
          "text": [
            "LORYHFRRNLHV\n"
          ]
        }
      ]
    },
    {
      "cell_type": "markdown",
      "metadata": {
        "id": "DbTSbDuMmeug"
      },
      "source": [
        "### Example 4.04 Currency Conversion table"
      ]
    },
    {
      "cell_type": "markdown",
      "metadata": {
        "id": "0S17iZ2tmkAF"
      },
      "source": [
        "When travelling, some people find it helpful to work out a table of currency conversions to help them gauge prices in their home currency. \n",
        "\n",
        "Suppose, currently, 1.29509 SGD buys 100 JPY. \n",
        "\n",
        "Write python code to display the following table of values. \n",
        "\n",
        "```python\n",
        "***JPY****SGD\n",
        "   100   1.30\n",
        "   200   2.59\n",
        "   300   3.89\n",
        "   400   5.18\n",
        "   500   6.48\n",
        "   600   7.77\n",
        "   700   9.07\n",
        "   800  10.36\n",
        "   900  11.66\n",
        "  1000  12.95\n",
        "```\n"
      ]
    },
    {
      "cell_type": "code",
      "metadata": {
        "id": "CIU8Q1i9ozp6",
        "colab": {
          "base_uri": "https://localhost:8080/"
        },
        "outputId": "8e7b7d81-f12d-4fea-edcb-1970091bdd04"
      },
      "source": [
        "conversion = 1.29509\n",
        "print('***JPY****SGD')\n",
        "#complete the rest\n",
        "\n",
        "\n",
        "\n"
      ],
      "execution_count": null,
      "outputs": [
        {
          "output_type": "stream",
          "name": "stdout",
          "text": [
            "***JPY****SGD\n",
            "   100   1.30\n",
            "   200   2.59\n",
            "   300   3.89\n",
            "   400   5.18\n",
            "   500   6.48\n",
            "   600   7.77\n",
            "   700   9.07\n",
            "   800  10.36\n",
            "   900  11.66\n",
            "  1000  12.95\n"
          ]
        }
      ]
    }
  ]
}